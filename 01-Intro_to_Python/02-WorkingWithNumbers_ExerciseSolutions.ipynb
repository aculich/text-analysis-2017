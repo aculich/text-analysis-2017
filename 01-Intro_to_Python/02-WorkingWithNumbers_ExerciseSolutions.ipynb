{
 "cells": [
  {
   "cell_type": "markdown",
   "metadata": {},
   "source": [
    "# Solution to Python Basics Exercises\n",
    "\n",
    "The exercises:\n",
    "1. Create a new grouped by dataframe, called 'grouped_new', that groups the dataframe by pregorder and calculates the mean for the other variables. Print this out.\n",
    "\n",
    "2. Sort this new grouped by dataframe by the age at pregnancy, in descending order so that the oldest average age at pregnancy is at the top.\n",
    "\n",
    "3. Print the subset of the dataframe with only those rows where the pregordr is 15 or greater\n",
    "\n",
    "4. In the original dataframe ('df'), create a new column that contains the age at pregnancy divided by the pregnancy order. Print out the dataframe to see the new column. (Note: There is not a sensible mathematical reason for this that I can think of. This is just to practice pandas.)"
   ]
  },
  {
   "cell_type": "code",
   "execution_count": null,
   "metadata": {
    "scrolled": true
   },
   "outputs": [],
   "source": [
    "import pandas\n",
    "#First read in data \n",
    "df = pandas.read_csv(\"../Data/nsfg_data1.csv.bz2\", compression='bz2', index_col = 0)\n",
    "#view our data. Note: 'NaN' indicates the value is missing\n",
    "df"
   ]
  },
  {
   "cell_type": "code",
   "execution_count": null,
   "metadata": {
    "scrolled": true
   },
   "outputs": [],
   "source": [
    "#Exercise 1\n",
    "\n",
    "grouped_new = df.groupby('pregordr').mean()\n",
    "grouped_new"
   ]
  },
  {
   "cell_type": "code",
   "execution_count": null,
   "metadata": {},
   "outputs": [],
   "source": [
    "#Exercise 2\n",
    "grouped_new.sort_values(by='agepreg', ascending=False)"
   ]
  },
  {
   "cell_type": "code",
   "execution_count": null,
   "metadata": {},
   "outputs": [],
   "source": [
    "# Exercise 3\n",
    "df[df['pregordr']>15]"
   ]
  },
  {
   "cell_type": "code",
   "execution_count": null,
   "metadata": {},
   "outputs": [],
   "source": [
    "#Exercise 4\n",
    "df['age/pregordr'] = df['agepreg']/df['pregordr']\n",
    "df"
   ]
  }
 ],
 "metadata": {
  "kernelspec": {
   "display_name": "Python 3",
   "language": "python",
   "name": "python3"
  },
  "language_info": {
   "codemirror_mode": {
    "name": "ipython",
    "version": 3
   },
   "file_extension": ".py",
   "mimetype": "text/x-python",
   "name": "python",
   "nbconvert_exporter": "python",
   "pygments_lexer": "ipython3",
   "version": "3.5.2"
  }
 },
 "nbformat": 4,
 "nbformat_minor": 2
}
