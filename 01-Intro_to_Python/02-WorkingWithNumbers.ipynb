{
 "cells": [
  {
   "cell_type": "markdown",
   "metadata": {},
   "source": [
    "# Working with Numbers in Python\n",
    "## Python Data Analysis Library - Pandas"
   ]
  },
  {
   "cell_type": "markdown",
   "metadata": {},
   "source": [
    "\n",
    "\n",
    "We've started to grapple with numbers, strings, and lists and how they might be used in text analysis. Sometimes we will use these methods to dig deeper into the text - to enable more productive deep readings. Other times we might want to turn text into numbers, either for \"distant reading,\" or even to perform some statistical analyses on the text.\n",
    "\n",
    "Today we will learn the basics of the Python library pandas, which is designed for (numerical) data analysis. It is similar to spreadsheets, such as those in Excel, or the dataframe in Stata or R, if you have used those. It is my favoriate place to do data/text munging and basic statistics. There are other libraries for more sophisticated statistics in Python.\n",
    "\n",
    "Today we will just explore numerical analysis. In the weeks to come we will explore how we can use pandas in the text analysis pipeline.\n",
    "\n",
    "### Learning Goals\n",
    "\n",
    "* Get familiar with the pandas libarary\n",
    "* Learn some basic functions to summarize numerical data\n",
    "* Have a foundation in pandas so we can use it on text as data in the weeks to come\n",
    "\n",
    "### Outline\n",
    "\n",
    "* [Introduction to pandas and the dataframe](#pandas)\n",
    "* [Dataframe Subsetting](#subsetting)\n",
    "* [Arithmetic](#arithmetic)\n",
    "* [Summarizing real data using pandas](#exercise)\n"
   ]
  },
  {
   "cell_type": "markdown",
   "metadata": {},
   "source": [
    "<a id='pandas'></a>\n",
    "## Pandas"
   ]
  },
  {
   "cell_type": "markdown",
   "metadata": {},
   "source": [
    "*Pandas* is a popular and flexible package whose primary use is its datatype: the <i>DataFrame</i>. The dataframe is essentially a spreadsheet, like you would find in Excel, but it integrates seamlessly into a Natural Language Processing workflow and it has a few tricks up its sleeve."
   ]
  },
  {
   "cell_type": "code",
   "execution_count": null,
   "metadata": {
    "collapsed": true
   },
   "outputs": [],
   "source": [
    "# Get ready!\n",
    "\n",
    "import pandas"
   ]
  },
  {
   "cell_type": "markdown",
   "metadata": {},
   "source": [
    "We have to first introduce a new datatype, lists of lists, or lists with sub-lists. We will use this to create a toy example of a dataset in pandas. Our toy dataset will include a sample of three people, and their weekly income and education level."
   ]
  },
  {
   "cell_type": "code",
   "execution_count": null,
   "metadata": {},
   "outputs": [],
   "source": [
    "# Create a list of three sub-lists, each with two entries.\n",
    "\n",
    "square_list = [[100,'high school'],[400,'BA'],[700,'MA']]"
   ]
  },
  {
   "cell_type": "code",
   "execution_count": null,
   "metadata": {},
   "outputs": [],
   "source": [
    "# We can slice lists of lists like we do lists\n",
    "# Question: What do you expect the output to be?\n",
    "\n",
    "square_list[2]"
   ]
  },
  {
   "cell_type": "code",
   "execution_count": null,
   "metadata": {},
   "outputs": [],
   "source": [
    "# Now the interesting stuff. Create a dataframe from that list. \n",
    "# The output here should look familiar, like a spreadsheet\n",
    "\n",
    "pandas.DataFrame(square_list)"
   ]
  },
  {
   "cell_type": "code",
   "execution_count": null,
   "metadata": {
    "collapsed": true
   },
   "outputs": [],
   "source": [
    "# We can create a list for our column labels to add to our dataframe\n",
    "\n",
    "column_names = ['income', 'education']\n",
    "row_names = ['Laura', 'Heather', 'KT']\n"
   ]
  },
  {
   "cell_type": "code",
   "execution_count": null,
   "metadata": {},
   "outputs": [],
   "source": [
    "# A-ha!\n",
    "\n",
    "pandas.DataFrame(square_list, columns = column_names, index=row_names)"
   ]
  },
  {
   "cell_type": "code",
   "execution_count": null,
   "metadata": {},
   "outputs": [],
   "source": [
    "# Assign this to a variable\n",
    "\n",
    "df = pandas.DataFrame(square_list, columns = column_names, index=row_names)\n",
    "df"
   ]
  },
  {
   "cell_type": "code",
   "execution_count": null,
   "metadata": {},
   "outputs": [],
   "source": [
    "# Call up a column of the dataframe\n",
    "\n",
    "df['income']\n",
    "df.income"
   ]
  },
  {
   "cell_type": "code",
   "execution_count": null,
   "metadata": {},
   "outputs": [],
   "source": [
    "# Make that column into a list\n",
    "\n",
    "list(df['income'])"
   ]
  },
  {
   "cell_type": "code",
   "execution_count": null,
   "metadata": {},
   "outputs": [],
   "source": [
    "# Get the indices for the entries in the column\n",
    "\n",
    "df['income'].index"
   ]
  },
  {
   "cell_type": "code",
   "execution_count": null,
   "metadata": {},
   "outputs": [],
   "source": [
    "# Call up a row from the indices\n",
    "df.iloc[1]"
   ]
  },
  {
   "cell_type": "code",
   "execution_count": null,
   "metadata": {},
   "outputs": [],
   "source": [
    "# Call up a couple of rows, using a list of indices\n",
    "\n",
    "df.loc[['Laura','Heather']]"
   ]
  },
  {
   "cell_type": "code",
   "execution_count": null,
   "metadata": {},
   "outputs": [],
   "source": [
    "# Get a specific entry by calling both row and column\n",
    "\n",
    "df.loc['Laura']['income']"
   ]
  },
  {
   "cell_type": "code",
   "execution_count": null,
   "metadata": {},
   "outputs": [],
   "source": [
    "# Temporarily re-order the dataframe by values in the 'income' column\n",
    "\n",
    "df.sort_values('income', ascending=False)"
   ]
  },
  {
   "cell_type": "code",
   "execution_count": null,
   "metadata": {},
   "outputs": [],
   "source": [
    "# Create a new column\n",
    "\n",
    "df['age'] = [22,31,35]"
   ]
  },
  {
   "cell_type": "code",
   "execution_count": null,
   "metadata": {},
   "outputs": [],
   "source": [
    "# Inspect\n",
    "\n",
    "df"
   ]
  },
  {
   "cell_type": "code",
   "execution_count": null,
   "metadata": {},
   "outputs": [],
   "source": [
    "## EX. Call up the entries (400 and BA) from the middle of the dataframe 'df' individually\n",
    "\n",
    "## CHALLENGE: Call up both entries at the same time\n",
    "\n",
    "df.loc['Heather'][['income', 'education']]\n"
   ]
  },
  {
   "cell_type": "markdown",
   "metadata": {},
   "source": [
    "<a id='subsetting'></a>\n",
    "## DataFrame Subsetting"
   ]
  },
  {
   "cell_type": "code",
   "execution_count": null,
   "metadata": {},
   "outputs": [],
   "source": [
    "# Slice out a column\n",
    "\n",
    "df['income']"
   ]
  },
  {
   "cell_type": "code",
   "execution_count": null,
   "metadata": {},
   "outputs": [],
   "source": [
    "# Evaluate whether each element in the column is equal to 100\n",
    "\n",
    "df['income']==100"
   ]
  },
  {
   "cell_type": "code",
   "execution_count": null,
   "metadata": {},
   "outputs": [],
   "source": [
    "# We can also use evaluation to subset the table. This time we'll use the greater than evaluator.\n",
    "#df['income']>200\n",
    "df[df['income']>200]"
   ]
  },
  {
   "cell_type": "code",
   "execution_count": null,
   "metadata": {},
   "outputs": [],
   "source": [
    "## EX. Slice 'df' to contain only rows in which 'education' equals 'BA' (remeber how to specify a string!)\n",
    "df[df['education']=='BA']"
   ]
  },
  {
   "cell_type": "markdown",
   "metadata": {},
   "source": [
    "<a id='arithmetic'></a>\n",
    "## Arithmetic!"
   ]
  },
  {
   "cell_type": "code",
   "execution_count": null,
   "metadata": {},
   "outputs": [],
   "source": [
    "# Our dataframe\n",
    "\n",
    "df"
   ]
  },
  {
   "cell_type": "code",
   "execution_count": null,
   "metadata": {
    "scrolled": true
   },
   "outputs": [],
   "source": [
    "# Pandas will produce a few descriptive statistics for each row, but only columns that are numbers\n",
    "\n",
    "df.describe()"
   ]
  },
  {
   "cell_type": "code",
   "execution_count": null,
   "metadata": {},
   "outputs": [],
   "source": [
    "# Multiply entries of the dataframe by 10\n",
    "\n",
    "df*10"
   ]
  },
  {
   "cell_type": "code",
   "execution_count": null,
   "metadata": {},
   "outputs": [],
   "source": [
    "# Add 10 to each entry\n",
    "\n",
    "df+10"
   ]
  },
  {
   "cell_type": "markdown",
   "metadata": {},
   "source": [
    "We can't do it! Why not?"
   ]
  },
  {
   "cell_type": "code",
   "execution_count": null,
   "metadata": {},
   "outputs": [],
   "source": [
    "#We can do it if we specify a column\n",
    "\n",
    "df['income']+10"
   ]
  },
  {
   "cell_type": "code",
   "execution_count": null,
   "metadata": {},
   "outputs": [],
   "source": [
    "# Of course our dataframe hasn't changed\n",
    "\n",
    "df"
   ]
  },
  {
   "cell_type": "code",
   "execution_count": null,
   "metadata": {},
   "outputs": [],
   "source": [
    "# What if we just want to add the values in the column?\n",
    "\n",
    "df['income'].sum()"
   ]
  },
  {
   "cell_type": "code",
   "execution_count": null,
   "metadata": {},
   "outputs": [],
   "source": [
    "# We can also perform operations among columns\n",
    "# Pandas knows to match up individual entries in each column\n",
    "\n",
    "df['income_age'] = df['income']/df['age']\n",
    "df"
   ]
  },
  {
   "cell_type": "code",
   "execution_count": null,
   "metadata": {},
   "outputs": [],
   "source": [
    "# EX: .sum() adds the values in a column. .mean() calculates the mean value in a column.\n",
    "#     Find the mean income and the mean age for the dataframe df()"
   ]
  },
  {
   "cell_type": "markdown",
   "metadata": {},
   "source": [
    "<a id='exercise'></a>\n",
    "## Summarzing Real Data"
   ]
  },
  {
   "cell_type": "markdown",
   "metadata": {},
   "source": [
    "Now let's read in a dataset containing real world data. The data is a .csv file you should have saved in the 'data' folder. These data are from the [National Survey of Family Growth](http://cdc.gov/nchs/nsfg.htm). It's from Cycle 6, the years 2002-2003. The survey contains information on pregnancy and births in the U.S.\n",
    "\n",
    "First read in the data:"
   ]
  },
  {
   "cell_type": "code",
   "execution_count": null,
   "metadata": {},
   "outputs": [],
   "source": [
    "#we'll assign it to the variable name df again, to keep things consistent\n",
    "df = pandas.read_csv(\"../data/nsfg_data1.csv.bz2\", compression='bz2', index_col = 0)\n",
    "#view our data. Note: 'NaN' indicates the value is missing\n",
    "df"
   ]
  },
  {
   "cell_type": "code",
   "execution_count": null,
   "metadata": {},
   "outputs": [],
   "source": [
    "#Typically the first thing we want to do is describe our data.\n",
    "df.describe()"
   ]
  },
  {
   "cell_type": "markdown",
   "metadata": {},
   "source": [
    "This describes the columns that contain numbers as values. To summarize the columns that contain strings, we can use the .value_counts() function. This counts the number of rows for each unique value in the specified column."
   ]
  },
  {
   "cell_type": "code",
   "execution_count": null,
   "metadata": {},
   "outputs": [],
   "source": [
    "df['insuranc'].value_counts()"
   ]
  },
  {
   "cell_type": "markdown",
   "metadata": {},
   "source": [
    "We can visualize the distribution of the two number columns by creating a histogram."
   ]
  },
  {
   "cell_type": "code",
   "execution_count": null,
   "metadata": {},
   "outputs": [],
   "source": [
    "# The main visualization, or plotting, library in Python is matplotlib\n",
    "import matplotlib.pyplot as plt\n",
    "df.hist()\n",
    "plt.show()"
   ]
  },
  {
   "cell_type": "markdown",
   "metadata": {},
   "source": [
    "Quite often when we are analyzing data we want to know the relationship between two variables. Here we may want to know the relationship between whether the respondent had health insurance and how it is related to their age at pregnancy and the birthweight of their baby.\n",
    "\n",
    "We can easily do this by using the groupby function, which groups all rows that share the same value in a particular column and performs an operation on the rest of the columns. \n",
    "\n",
    "Let's find out if the *average* age at pregnancy and the *average* birth weight are different for respondents who have no health insurance, private insurance, and public insurance."
   ]
  },
  {
   "cell_type": "code",
   "execution_count": null,
   "metadata": {},
   "outputs": [],
   "source": [
    "#group by the column insuranc, and calculate the mean for each group for the rest of the columns\n",
    "grouped = df.groupby('insuranc').mean()\n",
    "grouped"
   ]
  },
  {
   "cell_type": "code",
   "execution_count": null,
   "metadata": {},
   "outputs": [],
   "source": [
    "## EX: Create a new grouped by dataframe, called 'grouped_new', that groups the dataframe by pregorder\n",
    "##     and calculates the mean for the other variables. Print this out."
   ]
  },
  {
   "cell_type": "code",
   "execution_count": null,
   "metadata": {},
   "outputs": [],
   "source": [
    "## EX: Sort this new grouped by dataframe by the age at pregnancy, in descending order\n",
    "##     so that the oldest average age at pregnancy is at the top."
   ]
  },
  {
   "cell_type": "code",
   "execution_count": null,
   "metadata": {
    "collapsed": true
   },
   "outputs": [],
   "source": [
    "## EX: Print the subset of the dataframe with only those rows where the pregordr is 15 or greater"
   ]
  },
  {
   "cell_type": "code",
   "execution_count": null,
   "metadata": {
    "collapsed": true
   },
   "outputs": [],
   "source": [
    "## EX: In the original dataframe ('df'), create a new column that contains the age at pregnancy\n",
    "##   divided by the pregnancy order. Print out the dataframe to see the new column.\n",
    "##   (Note: There is not a sensible mathematical reason for this that I can think of. This is just to practice pandas.)"
   ]
  }
 ],
 "metadata": {
  "kernelspec": {
   "display_name": "Python 3",
   "language": "python",
   "name": "python3"
  },
  "language_info": {
   "codemirror_mode": {
    "name": "ipython",
    "version": 3
   },
   "file_extension": ".py",
   "mimetype": "text/x-python",
   "name": "python",
   "nbconvert_exporter": "python",
   "pygments_lexer": "ipython3",
   "version": "3.5.2"
  }
 },
 "nbformat": 4,
 "nbformat_minor": 1
}
