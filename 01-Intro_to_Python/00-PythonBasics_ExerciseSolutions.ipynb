{
 "cells": [
  {
   "cell_type": "markdown",
   "metadata": {},
   "source": [
    "# Solution to Python Basics Exercises\n",
    "\n",
    "The exercises:\n",
    "1. EX. Using the list of words you produced by splitting 'new_string', create a new list that contains only the words whose last letter is \"y\". \n",
    "\n",
    "2. EX. Create a new list that contains the first letter of each word.\n",
    "\n",
    "3. EX. Create a new list that contains only words longer than two letters.\n",
    "\n",
    "We can do all of this using built-in Python functions: arithmetic, string manipulation, and list comprehension. \n",
    "\n",
    "First, the sentence 'new_string'. We can split 'new_string' into a list of words using the .split() function"
   ]
  },
  {
   "cell_type": "code",
   "execution_count": null,
   "metadata": {},
   "outputs": [],
   "source": [
    "# copying 'new_string' from the tutorial on Wednesday\n",
    "\n",
    "new_string = \"It seems very strange that one must turn back, \\\n",
    "and be transported to the very beginnings of history, \\\n",
    "in order to arrive at an understanding of humanity as it is at present.\"\n",
    "\n",
    "#creat a new variable containing a list of words using the .split() function\n",
    "new_string_list = new_string.split() \n",
    "#print the new list\n",
    "new_string_list"
   ]
  },
  {
   "cell_type": "markdown",
   "metadata": {},
   "source": [
    "### (1) EX. Using the list of words you produced by splitting 'new_string', create a new list that contains only the words whose last letter is \"y\" \n",
    "\n",
    "We can combine list comprehension and the string manipulation function .endswith(), both of which we learned about on Wednesday, to create a new list the keeps only the elements from the original list that end with the character 'y'."
   ]
  },
  {
   "cell_type": "code",
   "execution_count": null,
   "metadata": {},
   "outputs": [],
   "source": [
    "word_list_y = [word for word in new_string_list if word.endswith('y')]\n",
    "#print the new list\n",
    "word_list_y"
   ]
  },
  {
   "cell_type": "markdown",
   "metadata": {},
   "source": [
    "### (2) EX. Create a new list that contains the first letter of each word.\n",
    "\n",
    "We can again use list comprehension, combined with string splicing, to produce a new list that contain only the first letter of each word. Remember in Python counting starts at 0."
   ]
  },
  {
   "cell_type": "code",
   "execution_count": null,
   "metadata": {},
   "outputs": [],
   "source": [
    "word_list_firstletter = [word[0] for word in new_string_list]\n",
    "#print our new list\n",
    "word_list_firstletter"
   ]
  },
  {
   "cell_type": "markdown",
   "metadata": {},
   "source": [
    "### (3)  EX. Create a new list that contains only words longer than two letters.\n",
    "\n",
    "We can, again, use list comprehension, the 'len' function, and the algorithm function greater than, or '>', to filter and keep words longer than two letters. Note that '>' is strictly greater than. If we wanted to include words with 2 letters we would need to use greater than or equal to, or '>='.\n",
    "\n",
    "Syntax is important here, so refer to the tutorial from Wednesday to remind yourself of the syntax. Use copy and paste to avoid errors in typing."
   ]
  },
  {
   "cell_type": "code",
   "execution_count": null,
   "metadata": {},
   "outputs": [],
   "source": [
    "word_list_long = [n for n in new_string_list if len(n)>2]\n",
    "#print new list\n",
    "word_list_long"
   ]
  }
 ],
 "metadata": {
  "kernelspec": {
   "display_name": "Python 3",
   "language": "python",
   "name": "python3"
  },
  "language_info": {
   "codemirror_mode": {
    "name": "ipython",
    "version": 3
   },
   "file_extension": ".py",
   "mimetype": "text/x-python",
   "name": "python",
   "nbconvert_exporter": "python",
   "pygments_lexer": "ipython3",
   "version": "3.5.2"
  }
 },
 "nbformat": 4,
 "nbformat_minor": 2
}
