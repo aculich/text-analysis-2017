{
 "cells": [
  {
   "cell_type": "markdown",
   "metadata": {},
   "source": [
    "# Exercise Solutions for 01-DTM_DistinctiveWords"
   ]
  },
  {
   "cell_type": "code",
   "execution_count": null,
   "metadata": {
    "collapsed": true
   },
   "outputs": [],
   "source": [
    "#First recreate our data\n",
    "import pandas\n",
    "from sklearn.feature_extraction.text import CountVectorizer\n",
    "from sklearn.feature_extraction.text import TfidfVectorizer\n",
    "\n",
    "#create a dataframe called \"df\"\n",
    "df = pandas.read_csv(\"../Data/BDHSI2016_music_reviews.csv\", sep = '\\t', encoding = 'utf-8')\n",
    "\n",
    "#counte vectorizer\n",
    "\n",
    "countvec = CountVectorizer()\n",
    "\n",
    "sklearn_dtm = countvec.fit_transform(df.body)\n",
    "dtm_df = pandas.DataFrame(countvec.fit_transform(df.body).toarray(), columns=countvec.get_feature_names(), index = df.index)\n",
    "\n",
    "#tfidf vectorizer\n",
    "tfidfvec = TfidfVectorizer()\n",
    "\n",
    "#create the dtm, but with cells weigthed by the tf-idf score.\n",
    "dtm_tfidf_df = pandas.DataFrame(tfidfvec.fit_transform(df.body).toarray(), columns=tfidfvec.get_feature_names(), index = df.index)"
   ]
  },
  {
   "cell_type": "markdown",
   "metadata": {},
   "source": [
    "### 1. Explore the Data using Pandas\n",
    "\n",
    "You folks are experts at this now. Write Python code using pandas to do the following exploration of the data:\n",
    "\n",
    "1. What different genres are in the data?\n",
    "2. Who are the reviewers?\n",
    "3. Who are the artists?\n",
    "4. What is the average score given?\n",
    "5. What is the average score by genre? What is the genre with the highest average score?"
   ]
  },
  {
   "cell_type": "code",
   "execution_count": null,
   "metadata": {},
   "outputs": [],
   "source": [
    "print(df['genre'].value_counts())\n",
    "print(df['critic'].value_counts())\n",
    "print(df['artist'].value_counts())"
   ]
  },
  {
   "cell_type": "code",
   "execution_count": null,
   "metadata": {},
   "outputs": [],
   "source": [
    "##Ex: print the average number of times each word is used in a review\n",
    "#Print this out sorted from highest to lowest.\n",
    "\n",
    "print(dtm_df.mean().sort_values(ascending=False))"
   ]
  },
  {
   "cell_type": "markdown",
   "metadata": {},
   "source": [
    "### Ex: Compare the distinctive words for two artists in the data\n",
    "\n",
    "Note: the artists should have a number of reviews, so check your frequency counts to identify artists.\n",
    "\n",
    "HINT: Copy and paste the above code and modify it as needed."
   ]
  },
  {
   "cell_type": "code",
   "execution_count": null,
   "metadata": {},
   "outputs": [],
   "source": [
    "print(df['artist'].value_counts())"
   ]
  },
  {
   "cell_type": "code",
   "execution_count": null,
   "metadata": {},
   "outputs": [],
   "source": [
    "#merge this into the dtm_tfidf_df\n",
    "dtm_tfidf_df_artist = dtm_tfidf_df\n",
    "dtm_tfidf_df['ARTIST'] = df['artist']\n",
    "#pull out the reviews for three genres, Rap, Alternative/Indie Rock, and Jazz\n",
    "dtm_rem_artist = dtm_tfidf_df_artist[dtm_tfidf_df_artist['ARTIST']==\"R.E.M.\"]\n",
    "dtm_af_artist = dtm_tfidf_df_artist[dtm_tfidf_df_artist['ARTIST']==\"Arcade Fire\"]\n",
    "\n",
    "\n",
    "#print the words with the highest tf-idf scores for each genre\n",
    "print(\"R.E.M. Words\")\n",
    "print(dtm_rem_artist.max(numeric_only=True).sort_values(ascending=False)[0:20])\n",
    "print()\n",
    "print(\"Arcade Fire Words\")\n",
    "print(dtm_af_artist.max(numeric_only=True).sort_values(ascending=False)[0:20])"
   ]
  }
 ],
 "metadata": {
  "kernelspec": {
   "display_name": "Python 3",
   "language": "python",
   "name": "python3"
  },
  "language_info": {
   "codemirror_mode": {
    "name": "ipython",
    "version": 3
   },
   "file_extension": ".py",
   "mimetype": "text/x-python",
   "name": "python",
   "nbconvert_exporter": "python",
   "pygments_lexer": "ipython3",
   "version": "3.5.2"
  }
 },
 "nbformat": 4,
 "nbformat_minor": 2
}
