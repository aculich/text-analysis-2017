{
 "cells": [
  {
   "cell_type": "markdown",
   "metadata": {},
   "source": [
    "# Exericse Solution for Pandas and Text Analysis\n",
    "\n",
    "First recreate our dataframe (df)"
   ]
  },
  {
   "cell_type": "code",
   "execution_count": null,
   "metadata": {},
   "outputs": [],
   "source": [
    "import pandas\n",
    "import nltk\n",
    "import string\n",
    "import matplotlib.pyplot as plt #note this last import statement. Why might we use \"import as\"?\n",
    "\n",
    "#read in our data\n",
    "df = pandas.read_csv(\"../Data/childrens_lit.csv.bz2\", sep = '\\t', encoding = 'utf-8', compression = 'bz2', index_col=0)\n",
    "df = df.dropna(subset=[\"text\"])\n",
    "df['text_lc'] = df['text'].str.lower()\n",
    "df['text_split']=df['text_lc'].str.split()\n",
    "df['word_count'] = df['text_split'].apply(len)\n",
    "df"
   ]
  },
  {
   "cell_type": "code",
   "execution_count": null,
   "metadata": {},
   "outputs": [],
   "source": [
    "##Ex: create a new column, 'text_split', that contains the lower case text split into list. \n",
    "####HINT: split on white space, don't tokenize it.\n",
    "\n",
    "df['text_split'] = df['text_lc'].str.split()\n",
    "df"
   ]
  },
  {
   "cell_type": "code",
   "execution_count": null,
   "metadata": {},
   "outputs": [],
   "source": [
    "###Ex: print the average novel length for male authors and female authors.\n",
    "###### What conclusions might you draw from this?\n",
    "\n",
    "###Ex: graph the average novel length by gender\n",
    "\n",
    "grouped_gender = df.groupby('author gender')\n",
    "print(grouped_gender['word_count'].mean())\n",
    "grouped_gender['word_count'].mean().plot(kind='bar')\n",
    "plt.show()"
   ]
  },
  {
   "cell_type": "code",
   "execution_count": null,
   "metadata": {},
   "outputs": [],
   "source": [
    "#What if we want to put error bars on this? We can add a 'yerr' option to our graph, and use the std() calculation to add error bars.\n",
    "grouped_gender = df.groupby('author gender')\n",
    "grouped_gender['word_count'].mean().plot(kind = 'bar', yerr = grouped_gender['word_count'].std())\n",
    "plt.show()"
   ]
  },
  {
   "cell_type": "code",
   "execution_count": null,
   "metadata": {},
   "outputs": [],
   "source": [
    "##Ex: plot the average novel length by year, with error bars. \n",
    "#Your x-axis should be year, and your y-axis number of words.\n",
    "plt.ticklabel_format(useOffset=False) #forces Python to not convert numbers\n",
    "grouped_year = df.groupby('year')\n",
    "grouped_year['word_count'].mean().plot(kind = 'line', yerr = grouped_gender['word_count'].std())\n",
    "plt.show()"
   ]
  },
  {
   "cell_type": "markdown",
   "metadata": {},
   "source": [
    "### Last Exercise:\n",
    "\n",
    "**Motivating Question: Is there a difference in the average TTR for male and female authors?**\n",
    "\n",
    "To answer this, go step by step.\n",
    "\n",
    "For computational reasons we will use the list we created by splitting on white spaces rather than tokenized text. So this is approximate only.\n",
    "\n",
    "We first need to count the token type in each novel. We can do this in two steps. First, create a column that contains a list of the unique token types, by applying the set function."
   ]
  },
  {
   "cell_type": "code",
   "execution_count": null,
   "metadata": {},
   "outputs": [],
   "source": [
    "##Ex: create a new column, 'text_type', which contains a list of unique token types\n",
    "df['text_type'] = df['text_split'].apply(set)\n",
    "df['text_type']"
   ]
  },
  {
   "cell_type": "code",
   "execution_count": null,
   "metadata": {},
   "outputs": [],
   "source": [
    "##Ex: create a new column, 'type_count', which is a count of the token types in each novel.\n",
    "##Ex: create a new column, 'ttr', which contains the type-token ratio for each novel.\n",
    "\n",
    "df['type_count'] = df['text_type'].apply(len)\n",
    "df['ttr'] = df['type_count']/df['word_count']\n",
    "df['ttr']"
   ]
  },
  {
   "cell_type": "code",
   "execution_count": null,
   "metadata": {},
   "outputs": [],
   "source": [
    "##Ex: Print the average ttr by author gender\n",
    "##Ex: Graph this result with error bars\n",
    "\n",
    "grouped = df.groupby('author gender')\n",
    "print(grouped['ttr'].mean())\n",
    "\n",
    "grouped['ttr'].mean().plot(kind='bar', yerr= grouped['ttr'].std())\n",
    "plt.show()"
   ]
  }
 ],
 "metadata": {
  "kernelspec": {
   "display_name": "Python 3",
   "language": "python",
   "name": "python3"
  },
  "language_info": {
   "codemirror_mode": {
    "name": "ipython",
    "version": 3
   },
   "file_extension": ".py",
   "mimetype": "text/x-python",
   "name": "python",
   "nbconvert_exporter": "python",
   "pygments_lexer": "ipython3",
   "version": "3.5.2"
  }
 },
 "nbformat": 4,
 "nbformat_minor": 2
}
