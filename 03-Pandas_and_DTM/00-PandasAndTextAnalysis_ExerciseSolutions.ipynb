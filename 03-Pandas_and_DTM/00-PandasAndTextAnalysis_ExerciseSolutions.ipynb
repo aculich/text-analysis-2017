{
 "cells": [
  {
   "cell_type": "markdown",
   "metadata": {},
   "source": [
    "# Exericse Solution for Pandas and Text Analysis\n",
    "\n",
    "**Motivating Question: Is there a difference in the average TTR for male and female authors?**\n",
    "\n",
    "To answer this, go step by step.\n",
    "\n",
    "First, I need to read in the data and recreate what we did in the tutorial."
   ]
  },
  {
   "cell_type": "code",
   "execution_count": null,
   "metadata": {
    "collapsed": true
   },
   "outputs": [],
   "source": [
    "import pandas\n",
    "import nltk\n",
    "import string\n",
    "import matplotlib.pyplot as plt #note this last import statement. Why might we use \"import as\"?\n",
    "\n",
    "#read in our data\n",
    "df = pandas.read_csv(\"../Data/childrens_lit.csv.bz2\", sep = '\\t', encoding = 'utf-8', compression = 'bz2', index_col=0)\n",
    "df = df.dropna(subset=[\"text\"])\n",
    "df['text_lc'] = df['text'].str.lower()\n",
    "df['text_split']=df['text_lc'].str.split()\n",
    "df['word_count'] = df['text_split'].apply(len)\n",
    "df"
   ]
  },
  {
   "cell_type": "code",
   "execution_count": null,
   "metadata": {
    "collapsed": true
   },
   "outputs": [],
   "source": [
    "##Ex: create a new column, 'text_type', which contains a list of unique token types\n",
    "df['text_type'] = df['text_split'].apply(set)\n",
    "df['text_type']"
   ]
  },
  {
   "cell_type": "code",
   "execution_count": null,
   "metadata": {
    "collapsed": true
   },
   "outputs": [],
   "source": [
    "##Ex: create a new column, 'type_count', which is a count of the token types in each novel.\n",
    "##Ex: create a new column, 'ttr', which contains the type-token ratio for each novel.\n",
    "\n",
    "df['type_count'] = df['text_type'].apply(len)\n",
    "df['ttr'] = df['type_count']/df['word_count']\n",
    "df['ttr']"
   ]
  },
  {
   "cell_type": "code",
   "execution_count": null,
   "metadata": {
    "collapsed": true
   },
   "outputs": [],
   "source": [
    "##Ex: Print the average ttr by author gender\n",
    "##Ex: Graph this result with error bars\n",
    "\n",
    "grouped = df.groupby('author gender')\n",
    "print(grouped['ttr'].mean())\n",
    "\n",
    "grouped['ttr'].mean().plot(kind='bar', yerr= grouped['ttr'].std())\n",
    "plt.show()"
   ]
  }
 ],
 "metadata": {
  "kernelspec": {
   "display_name": "Python 3",
   "language": "python",
   "name": "python3"
  },
  "language_info": {
   "codemirror_mode": {
    "name": "ipython",
    "version": 3
   },
   "file_extension": ".py",
   "mimetype": "text/x-python",
   "name": "python",
   "nbconvert_exporter": "python",
   "pygments_lexer": "ipython3",
   "version": "3.5.2"
  }
 },
 "nbformat": 4,
 "nbformat_minor": 2
}
