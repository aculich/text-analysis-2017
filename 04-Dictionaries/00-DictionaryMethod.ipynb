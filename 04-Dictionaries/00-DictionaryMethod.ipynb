{
 "cells": [
  {
   "cell_type": "markdown",
   "metadata": {},
   "source": [
    "## Dictionary Method\n",
    "\n",
    "This is the most simple way to measure the prevelence of a theme in a corpus, and is used for many purposes, including sentiment analysis. This is one of the most long-standing, and ubiquitous, methods in automated text analysis, so it's important to both understand the method and be able to implement it.\n",
    "\n",
    "The method is simple: it involves grouping words into categories or themes, and then counting the number of words from each theme in your corpus. We will use this method to do sentiment analysis, a popular text analysis task, on our Music Review corpus, using a standard sentiment analysis dictionary.\n",
    "\n",
    "### Learning Goals\n",
    "* Understand the intuition behind the dictionary method\n",
    "* Learn how to implement in via Python Pandas and NLTK\n",
    "* Get more comfortable combining Python packages together\n",
    "* Implement a rudimentary sentiment analysis tool and test it on our Music Reviews data.\n",
    "\n",
    "\n",
    "### Outline\n",
    "* [Introduction to the Dictionary Method](#intro)\n",
    "* [Pre-Processing](#pre)\n",
    "* [Creating Dictionary Counts](#counts)\n",
    "* [Sentiment Analysis using the Dictionary Method](#sentiment)\n",
    "* [Dictionary Method using Scikit-learn](#scikit)\n",
    "\n",
    "\n",
    "### Key Jargon\n",
    "\n",
    "* *dictionary method*:\n",
    "    * text analysis method that utilizes the frequency of key words, grouped into themes, to determine the prevelance of that theme throughout a corpus.\n",
    "* *standard dictionary*:\n",
    "    * otherwise known as general dictionaries, a dictionary created by experts meant to measure general phenomenon.\n",
    "* *custom dictionary*:\n",
    "    * dictionaries tailored to a specific domain or question. Usually created by the researcher based on the research question.\n",
    "* *sentiment analysis*:\n",
    "    * the process of computationally identifying and categorizing opinions expressed in a piece of text, especially in order to determine whether the writer's attitude towards a particular topic, product, etc., is positive, negative, or neutral.\n",
    "    \n",
    "### Further Resources\n",
    "\n",
    "[A Novel Method for Detecting Plot](http://www.matthewjockers.net/2014/06/05/a-novel-method-for-detecting-plot/), Matt Jockers\n",
    "\n",
    "Enns, Peter, Nathan Kelly, Jana Morgan, and Christopher Witko. 2015.[“Money and the Supply\n",
    "of Political Rhetoric: Understanding the Congressional (Non-)Response to Economic Inequality.”](http://cdn.equitablegrowth.org/wp-content/uploads/2016/06/29155322/enns-kelly-morgan-witko-econinterests-policyagenda.pdf) Paper presented at the APSA Annual Meetings, San Francisco.\n",
    "* Outlines the process of creating your own dictionary\n",
    "\n",
    "[Neal Caren has a tutorial using MPQA](http://nealcaren.web.unc.edu/an-introduction-to-text-analysis-with-python-part-3/), which implements the dictionary method in Python but in a much different way \n",
    "\n",
    "**__________________________________**\n"
   ]
  },
  {
   "cell_type": "markdown",
   "metadata": {},
   "source": [
    "<a id='intro'></a>\n",
    "### 0. Introduction to the Dictionary Method"
   ]
  },
  {
   "cell_type": "markdown",
   "metadata": {},
   "source": [
    "The dictionary method is based on the assumption that themes or categories consist of a group of words, and texts that cover that theme will have a higher percentage of that group of words compared to other texts. Dictionary methods are used for many purposes. A few possibilities:\n",
    "* classify text into themes\n",
    "* measure the *tone* of text\n",
    "* measure sentiment\n",
    "* measure psychological processes\n",
    "\n",
    "There are two forms of dictionaries: standard or general dictionaries, and custom dictionaries.\n",
    "\n",
    "#### Standard Dictionaries\n",
    "\n",
    "There are a number of standard dictionaries that have been created by field experts. The benefit of standarized dictionaries is that they're developed by experts and have been throughoughly validated. Others have likely published using these dictionaries, so reviewers are more likely to accept them as valid. Because of this, they are good options if they fit your research question. \n",
    "\n",
    "Here are a few:\n",
    "\n",
    "* [DICTION](http://www.dictionsoftware.com/): a computer-aided text analysis program for determining the tone of a text. It was created by and for organization scholars and political scientists.\n",
    "    * Main five categories: Certainty, Activity, Optimism, Realism, Commonality\n",
    "    * 35 sub-categories\n",
    "    * Allows you to create your own dictionary\n",
    "    * Proprietary software\n",
    "* [Linguistic Inquiry and Word Count (LIWC)](http://liwc.wpengine.com/): Created by psychologists, it's meant to capture psychological processes around feelings, personality, and motivations. It's also proprietary.\n",
    "* [Multi-Perspective Question Answering (MPQA)](http://mpqa.cs.pitt.edu/): The free version of LIWC. We will use this dictionary today.\n",
    "* [Harvard General Inquirer](http://www.wjh.harvard.edu/~inquirer/spreadsheet_guide.htm). Multiple categories, including abstract and concrete words. It's free and available online.\n",
    "\n",
    "#### Custom Dictionaries\n",
    "\n",
    "Many research questions or data are domain specific, however, and will thus require you to create your own dictionary based on your own knowledge of the domain and question. Creating your own dictionary requires a lot of thought, and must be validated. These dictionaries are typically created in an interative fashion, and are modified as they are validated. See Enns et al. (2015) for an example of how they constructed their own dictionary. \n",
    "\n",
    "Today we will use the free and standard sentiment dictionary from MPQA to measure positive and negative sentiment in the music reviews.\n",
    "\n",
    "Our first step, as with any technique, is the pre-processing step, to get the data ready for analyis."
   ]
  },
  {
   "cell_type": "markdown",
   "metadata": {},
   "source": [
    "<a id='pre'></a>\n",
    "### 1. Pre-Processing"
   ]
  },
  {
   "cell_type": "markdown",
   "metadata": {},
   "source": [
    "First, read in our Music Reviews corpus as a Pandas dataframe."
   ]
  },
  {
   "cell_type": "code",
   "execution_count": null,
   "metadata": {
    "collapsed": true
   },
   "outputs": [],
   "source": [
    "#import the necessary packages\n",
    "import pandas\n",
    "import nltk\n",
    "from nltk import word_tokenize\n",
    "import string\n",
    "\n",
    "#read the Music Reviews corpus into a Pandas dataframe\n",
    "df = pandas.read_csv(\"../Data/BDHSI2016_music_reviews.csv\", encoding='utf-8', sep = '\\t')\n",
    "\n",
    "#view the dataframe\n",
    "df"
   ]
  },
  {
   "cell_type": "markdown",
   "metadata": {},
   "source": [
    "The next step is to create a new column in our dataset that contains tokenized words with all the pre-processing steps."
   ]
  },
  {
   "cell_type": "code",
   "execution_count": null,
   "metadata": {
    "collapsed": true
   },
   "outputs": [],
   "source": [
    "#first create a new column called \"body_tokens\" and transform to lowercase by applying the string function str.lower()\n",
    "df['body'] = df['body'].apply(lambda x: ''.join([i for i in x if not i.isdigit()]))\n",
    "df['body_tokens'] = df['body'].str.lower()"
   ]
  },
  {
   "cell_type": "code",
   "execution_count": null,
   "metadata": {
    "collapsed": true
   },
   "outputs": [],
   "source": [
    "#tokenize\n",
    "df['body_tokens'] = df['body_tokens'].apply(nltk.word_tokenize)\n",
    "\n",
    "#view output\n",
    "print(df['body_tokens'])"
   ]
  },
  {
   "cell_type": "code",
   "execution_count": null,
   "metadata": {
    "collapsed": true
   },
   "outputs": [],
   "source": [
    "punctuations = list(string.punctuation)\n",
    "\n",
    "#remove punctuation. Let's talk about that lambda x.\n",
    "df['body_tokens'] = df['body_tokens'].apply(lambda x: [word for word in x if word not in punctuations])\n",
    "\n",
    "#view output\n",
    "print(df['body_tokens'])"
   ]
  },
  {
   "cell_type": "markdown",
   "metadata": {},
   "source": [
    "Pre-processing is done. What other pre-processing steps might we use?\n",
    "\n",
    "One more step before getting to the dictionary method. We want a total token count for each row, so we can normalize the dictionary counts. To do this we simply create a new column that contains the length of the token list in each row."
   ]
  },
  {
   "cell_type": "code",
   "execution_count": null,
   "metadata": {
    "collapsed": true
   },
   "outputs": [],
   "source": [
    "df['token_count'] = df['body_tokens'].apply(lambda x: len(x))\n",
    "\n",
    "print(df[['body_tokens','token_count']])"
   ]
  },
  {
   "cell_type": "markdown",
   "metadata": {},
   "source": [
    "<a id='counts'></a>\n",
    "### 2. Creating Dictionary Counts"
   ]
  },
  {
   "cell_type": "markdown",
   "metadata": {},
   "source": [
    "I created two text files, one is a list of positive words from the MPQA dictionary, the other is a list of negative words. One word per line. Our goal here is to count the number of positive and negative words in each row of our dataframe, and add two columns to our dataset with the count of positive and negative words.\n",
    "\n",
    "First, read in the positive and negative words and create list variables for each."
   ]
  },
  {
   "cell_type": "code",
   "execution_count": null,
   "metadata": {
    "collapsed": true
   },
   "outputs": [],
   "source": [
    "pos_sent = open(\"../Data/positive_words.txt\", encoding='utf-8').read()\n",
    "neg_sent = open(\"../Data/negative_words.txt\", encoding='utf-8').read()\n",
    "\n",
    "#view part of the pos_sent variable, to see how it's formatted.\n",
    "print(pos_sent[:101])"
   ]
  },
  {
   "cell_type": "code",
   "execution_count": null,
   "metadata": {
    "collapsed": true
   },
   "outputs": [],
   "source": [
    "#remember the split function? We'll split on the newline character (\\n) to create a list\n",
    "positive_words=pos_sent.split('\\n')\n",
    "negative_words=neg_sent.split('\\n')\n",
    "\n",
    "#view the first elements in the lists\n",
    "print(positive_words[:10])\n",
    "print(negative_words[:10])\n",
    "positive_words"
   ]
  },
  {
   "cell_type": "code",
   "execution_count": null,
   "metadata": {
    "collapsed": true
   },
   "outputs": [],
   "source": [
    "#count number of words in each list\n",
    "print(len(positive_words))\n",
    "print(len(negative_words))"
   ]
  },
  {
   "cell_type": "markdown",
   "metadata": {},
   "source": [
    "Great! You know what to do now.\n",
    "\n",
    "Exercise:\n",
    "1. Create a column with the number of positive words, and another with the proportion of positive words\n",
    "2. Create a column with the number of negative words, and another with the proportion of negative words\n",
    "3. Print the average proportion of negative and positive words by genre\n",
    "4. Compare this to the average score by genre"
   ]
  },
  {
   "cell_type": "code",
   "execution_count": null,
   "metadata": {
    "collapsed": true
   },
   "outputs": [],
   "source": [
    "#exercise code here\n",
    "df['pos_num'] = df['body_tokens'].apply(lambda x: len([word for word in x if word in positive_words]))\n",
    "df['neg_num'] = df['body_tokens'].apply(lambda x: len([word for word in x if word in negative_words]))\n",
    "\n",
    "df['pos_prop'] = df['pos_num']/df['token_count']\n",
    "df['neg_prop'] = df['neg_num']/df['token_count']\n",
    "df.drop('release_date', axis=1, inplace=True)\n",
    "df"
   ]
  },
  {
   "cell_type": "code",
   "execution_count": null,
   "metadata": {
    "collapsed": true
   },
   "outputs": [],
   "source": [
    "grouped = df.groupby('genre')\n",
    "grouped['pos_prop'].mean().sort_values(ascending=False)"
   ]
  },
  {
   "cell_type": "code",
   "execution_count": null,
   "metadata": {
    "collapsed": true
   },
   "outputs": [],
   "source": [
    "grouped['score'].mean().sort_values(ascending=False)"
   ]
  },
  {
   "cell_type": "markdown",
   "metadata": {},
   "source": [
    "That's the dictionary method! You can do this with any dictionary you want, standard or you can create your own."
   ]
  },
  {
   "cell_type": "markdown",
   "metadata": {},
   "source": [
    "<a id='scikit'></a>\n",
    "### 3. Dictionary Method using Scikit-learn"
   ]
  },
  {
   "cell_type": "markdown",
   "metadata": {},
   "source": [
    "We can also do this using the document term matrix. We'll again do this in pandas, to make it conceptually clear. As you get more comfortable with programming you may want to eventually shift over to working with sparse matrix format."
   ]
  },
  {
   "cell_type": "code",
   "execution_count": null,
   "metadata": {
    "collapsed": true
   },
   "outputs": [],
   "source": [
    "#import the function CountVectorizer\n",
    "from sklearn.feature_extraction.text import CountVectorizer\n",
    "\n",
    "countvec = CountVectorizer()\n",
    "\n",
    "#create our document term matrix as a pandas dataframe\n",
    "dtm_df = pandas.DataFrame(countvec.fit_transform(df.body).toarray(), columns=countvec.get_feature_names(), index = df.index)\n",
    "dtm_df"
   ]
  },
  {
   "cell_type": "markdown",
   "metadata": {},
   "source": [
    "Now we can keep only those *columns* that occur in our positive words list. To do this, we'll first save a list of the columns names as a variable, and then only keep the elements of the list that occur in our positive words list. We'll then create a new dataframe keeping only those select columns."
   ]
  },
  {
   "cell_type": "code",
   "execution_count": null,
   "metadata": {
    "collapsed": true
   },
   "outputs": [],
   "source": [
    "#create a columns variable that is a list of all column names\n",
    "columns = list(dtm_df)\n",
    "columns"
   ]
  },
  {
   "cell_type": "code",
   "execution_count": null,
   "metadata": {
    "collapsed": true
   },
   "outputs": [],
   "source": [
    "#create a new variable that contains only column names that are in our postive words list\n",
    "pos_columns = [word for word in columns if word in positive_words]\n",
    "pos_columns"
   ]
  },
  {
   "cell_type": "code",
   "execution_count": null,
   "metadata": {
    "collapsed": true
   },
   "outputs": [],
   "source": [
    "#create a dtm from our dtm_df that keeps only positive sentiment columns\n",
    "dtm_pos = dtm_df[pos_columns]\n",
    "dtm_pos"
   ]
  },
  {
   "cell_type": "code",
   "execution_count": null,
   "metadata": {
    "collapsed": true
   },
   "outputs": [],
   "source": [
    "#count the number of positive words for each document\n",
    "dtm_pos['pos_count'] = dtm_pos.sum(axis=1)\n",
    "#dtm_pos.drop('pos_count',axis=1, inplace=True)\n",
    "dtm_pos['pos_count']"
   ]
  },
  {
   "cell_type": "markdown",
   "metadata": {},
   "source": [
    "EX: Do the same for negative words.  \n",
    "EX: Calculate the proportion of negative and positive words for each document."
   ]
  }
 ],
 "metadata": {
  "kernelspec": {
   "display_name": "Python 3",
   "language": "python",
   "name": "python3"
  },
  "language_info": {
   "codemirror_mode": {
    "name": "ipython",
    "version": 3
   },
   "file_extension": ".py",
   "mimetype": "text/x-python",
   "name": "python",
   "nbconvert_exporter": "python",
   "pygments_lexer": "ipython3",
   "version": "3.5.2"
  }
 },
 "nbformat": 4,
 "nbformat_minor": 1
}
