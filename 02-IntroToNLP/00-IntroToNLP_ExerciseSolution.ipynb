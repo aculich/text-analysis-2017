{
 "cells": [
  {
   "cell_type": "markdown",
   "metadata": {},
   "source": [
    "# Solution to Intro to NLP\n",
    "\n",
    "Ex: Calculate the TTR for two novels in our data folder. Print the most frequent words for these two novels.\n",
    "\n",
    "\n",
    "### 0. Read in text, pre-processing steps"
   ]
  },
  {
   "cell_type": "code",
   "execution_count": null,
   "metadata": {
    "collapsed": true
   },
   "outputs": [],
   "source": [
    "import nltk\n",
    "import string\n",
    "from nltk import word_tokenize\n",
    "from nltk.corpus import stopwords\n",
    "\n",
    "#open and read the novels, save them as variables\n",
    "austen_string = open('../data/Austen_PrideAndPrejudice.txt', encoding='utf-8').read()\n",
    "alcott_string = open('../data/Alcott_GarlandForGirls.txt', encoding='utf-8').read()"
   ]
  },
  {
   "cell_type": "code",
   "execution_count": null,
   "metadata": {},
   "outputs": [],
   "source": [
    "#tokenize the text\n",
    "austen_list = word_tokenize(austen_string)\n",
    "alcott_list = word_tokenize(alcott_string)\n",
    "print(austen_list[:10])\n",
    "print(alcott_list[:10])"
   ]
  },
  {
   "cell_type": "code",
   "execution_count": null,
   "metadata": {},
   "outputs": [],
   "source": [
    "#pre-processing\n",
    "#remove punctuation and lowercase. We can do this in one line!\n",
    "punctuation = list(string.punctuation)\n",
    "austen_list_clean = [word.lower() for word in austen_list if word not in punctuation]\n",
    "alcott_list_clean = [word.lower() for word in alcott_list if word not in punctuation]\n",
    "\n",
    "print(austen_list_clean[:10])\n",
    "print(alcott_list_clean[:10])"
   ]
  },
  {
   "cell_type": "markdown",
   "metadata": {},
   "source": [
    "### 1.  Type-Token Ratio\n",
    "\n",
    "Divide the length of the set of the text (the unique elements) by the length of the full list"
   ]
  },
  {
   "cell_type": "code",
   "execution_count": null,
   "metadata": {},
   "outputs": [],
   "source": [
    "print(\"TTR for Pride and Prejudice\")\n",
    "print(len(set(austen_list_clean))/len(austen_list_clean))\n",
    "print(\"TTR for A Garland for Girls\")\n",
    "print(len(set(alcott_list_clean))/len(alcott_list_clean))"
   ]
  },
  {
   "cell_type": "markdown",
   "metadata": {},
   "source": [
    "### 2. Frequent Words"
   ]
  },
  {
   "cell_type": "code",
   "execution_count": null,
   "metadata": {},
   "outputs": [],
   "source": [
    "austen_word_frequency = nltk.FreqDist(austen_list_clean)\n",
    "alcott_word_frequency = nltk.FreqDist(alcott_list_clean)\n",
    "\n",
    "print(\"Frequent words in Pride and Prejudice\")\n",
    "print(austen_word_frequency.most_common(10))\n",
    "print(\"Frequent words in A Garland for Girls\")\n",
    "print(alcott_word_frequency.most_common(10))"
   ]
  },
  {
   "cell_type": "markdown",
   "metadata": {},
   "source": [
    "### 3. Bonus: Plotting word distribution"
   ]
  },
  {
   "cell_type": "code",
   "execution_count": null,
   "metadata": {},
   "outputs": [],
   "source": [
    "austen_word_frequency.plot(50, cumulative=True)\n",
    "austen_word_frequency.plot(50, cumulative=False)"
   ]
  },
  {
   "cell_type": "markdown",
   "metadata": {},
   "source": [
    "The most frequent words are, of course, the stop words. These words do not tell us much about the content of the text."
   ]
  },
  {
   "cell_type": "markdown",
   "metadata": {},
   "source": [
    "### 4. Count word frequencies after removing stop words"
   ]
  },
  {
   "cell_type": "code",
   "execution_count": null,
   "metadata": {},
   "outputs": [],
   "source": [
    "austen_list_clean_sw = [word for word in austen_list_clean if word not in stopwords.words('english')]\n",
    "alcott_list_clean_sw = [word for word in alcott_list_clean if word not in stopwords.words('english')]\n",
    "\n",
    "austen_word_frequency_sw = nltk.FreqDist(austen_list_clean_sw)\n",
    "alcott_word_frequency_sw = nltk.FreqDist(alcott_list_clean_sw)\n",
    "\n",
    "print(\"Frequent words in Pride and Prejudice\")\n",
    "print(austen_word_frequency_sw.most_common(20))\n",
    "print()\n",
    "print(\"Frequent words in A Garland for Girls\")\n",
    "print(alcott_word_frequency_sw.most_common(20))"
   ]
  },
  {
   "cell_type": "markdown",
   "metadata": {},
   "source": [
    "### 5. Bonus: Concordances\n",
    "\n",
    "The NLTK package has many built-in functions for natural language processing. I encourage you to explore the full range of techniques available. I'll go over two more here: concordance() and similar().\n",
    "\n",
    "The concordance() function lists out every time the specified words appears in the text along with the surrounding context."
   ]
  },
  {
   "cell_type": "code",
   "execution_count": null,
   "metadata": {},
   "outputs": [],
   "source": [
    "marx_string = open('../data/Marx_CommunistManifesto.txt', encoding='utf-8').read()\n",
    "prince_string = open('../data/Machiavelli_ThePrince.txt', encoding='utf-8').read()\n",
    "\n",
    "marx_list = word_tokenize(marx_string)\n",
    "prince_list = word_tokenize(prince_string)\n",
    "\n",
    "marx_nltk = nltk.Text(marx_list)\n",
    "prince_nltk = nltk.Text(prince_list)\n",
    "print(prince_nltk)\n",
    "marx_nltk"
   ]
  },
  {
   "cell_type": "code",
   "execution_count": null,
   "metadata": {},
   "outputs": [],
   "source": [
    "marx_nltk.concordance('people')\n",
    "prince_nltk.concordance('people')"
   ]
  },
  {
   "cell_type": "markdown",
   "metadata": {},
   "source": [
    "The text.similar() method takes a word w, finds all contexts w1 w w2, then finds all words w' that appear in the same context, i.e. w1 w' w2"
   ]
  },
  {
   "cell_type": "code",
   "execution_count": null,
   "metadata": {},
   "outputs": [],
   "source": [
    "print(\"Marx\")\n",
    "marx_nltk.similar('people')\n",
    "print()\n",
    "print(\"Machiavelli\")\n",
    "prince_nltk.similar('people')"
   ]
  }
 ],
 "metadata": {
  "kernelspec": {
   "display_name": "Python 3",
   "language": "python",
   "name": "python3"
  },
  "language_info": {
   "codemirror_mode": {
    "name": "ipython",
    "version": 3
   },
   "file_extension": ".py",
   "mimetype": "text/x-python",
   "name": "python",
   "nbconvert_exporter": "python",
   "pygments_lexer": "ipython3",
   "version": "3.5.2"
  }
 },
 "nbformat": 4,
 "nbformat_minor": 2
}
