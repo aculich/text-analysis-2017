{
 "cells": [
  {
   "cell_type": "markdown",
   "metadata": {},
   "source": [
    "# Exercise solution for POS Tagging\n",
    "\n",
    "Ex: Compare the most frequent part-of-speech used in two of the texts in our data folder\n"
   ]
  },
  {
   "cell_type": "code",
   "execution_count": null,
   "metadata": {},
   "outputs": [],
   "source": [
    "import nltk\n",
    "from nltk import word_tokenize\n",
    "\n",
    "#open and read the novels, save them as variables\n",
    "austen_string = open('../data/Austen_PrideAndPrejudice.txt', encoding='utf-8').read()\n",
    "alcott_string = open('../data/Alcott_GarlandForGirls.txt', encoding='utf-8').read()\n",
    "\n",
    "#tokenize, then tag each word with its part of speech\n",
    "austen_tokens = word_tokenize(austen_string)\n",
    "alcott_tokens = word_tokenize(alcott_string)\n",
    "austen_tokens_tagged = nltk.pos_tag(austen_tokens)\n",
    "alcott_tokens_tagged = nltk.pos_tag(alcott_tokens)\n",
    "\n",
    "#create a frequency distribution for the part of speech tags (not the words)\n",
    "austen_tag_freq = nltk.FreqDist(tag for (word, tag) in austen_tokens_tagged)\n",
    "alcott_tag_freq = nltk.FreqDist(tag for (word, tag) in alcott_tokens_tagged)\n",
    "\n",
    "#print most frequent tags\n",
    "print(\"Frequent Part of Speech tags in Austen\")\n",
    "print(austen_tag_freq.most_common(10))\n",
    "\n",
    "print(\"Frequent Part of Speech tags in Alcott\")\n",
    "print(alcott_tag_freq.most_common(10))"
   ]
  },
  {
   "cell_type": "markdown",
   "metadata": {},
   "source": [
    "Ex: Compare the *number* of organizations and people mentioned in two of the texts in our data folder."
   ]
  },
  {
   "cell_type": "code",
   "execution_count": null,
   "metadata": {},
   "outputs": [],
   "source": [
    "#use the named entity chunker to tag named entities\n",
    "austen_chunked = nltk.ne_chunk(austen_tokens_tagged)\n",
    "alcott_chunked = nltk.ne_chunk(alcott_tokens_tagged)\n",
    "\n",
    "print(\"Number of people mentioned in Austen\")\n",
    "print(len([n for n in austen_chunked.subtrees() if n.label()==\"PERSON\"]))\n",
    "print(\"Number of orgs mentioned in Austen\")\n",
    "print(len([n for n in austen_chunked.subtrees() if n.label()==\"ORGANIZATION\"]))\n",
    "print()\n",
    "print(\"Number of people mentioned in Alcott\")\n",
    "print(len([n for n in alcott_chunked.subtrees() if n.label()==\"PERSON\"]))\n",
    "print(\"Number of orgs mentioned in Alcott\")\n",
    "orgs = (len([n for n in alcott_chunked.subtrees() if n.label()==\"ORGANIZATION\"]))\n",
    "print(org/len(alcott_tokens))"
   ]
  },
  {
   "cell_type": "code",
   "execution_count": null,
   "metadata": {},
   "outputs": [],
   "source": [
    "print(orgs/len(alcott_tokens))"
   ]
  }
 ],
 "metadata": {
  "kernelspec": {
   "display_name": "Python 3",
   "language": "python",
   "name": "python3"
  },
  "language_info": {
   "codemirror_mode": {
    "name": "ipython",
    "version": 3
   },
   "file_extension": ".py",
   "mimetype": "text/x-python",
   "name": "python",
   "nbconvert_exporter": "python",
   "pygments_lexer": "ipython3",
   "version": "3.5.2"
  }
 },
 "nbformat": 4,
 "nbformat_minor": 2
}
