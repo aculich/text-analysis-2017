{
 "cells": [
  {
   "cell_type": "markdown",
   "metadata": {},
   "source": [
    "# Exercise solution for POS Tagging\n",
    "\n",
    "EX1: Print the most frequent nouns, adjective, and verbs in the sentence\n",
    "EX2: Compare the most frequent part-of-speech used in two of the texts in our data folder"
   ]
  },
  {
   "cell_type": "code",
   "execution_count": null,
   "metadata": {
    "collapsed": true
   },
   "outputs": [],
   "source": [
    "import nltk\n",
    "from nltk import word_tokenize"
   ]
  },
  {
   "cell_type": "code",
   "execution_count": null,
   "metadata": {
    "collapsed": true
   },
   "outputs": [],
   "source": [
    "#EX1: Print the most frequent nouns, adjective, and verbs in the sentence\n",
    "#First recreate what we did\"\n",
    "\n",
    "sentence=\"For me it has to do with the work that gets done at the crossroads of \\\n",
    "digital media and traditional humanistic study. And that happens in two different ways. \\\n",
    "On the one hand, it's bringing the tools and techniques of digital media to bear \\\n",
    "on traditional humanistic questions; on the other, it's also bringing humanistic modes \\\n",
    "of inquiry to bear on digital media.\"\n",
    "sentence_tokens = word_tokenize(sentence)\n",
    "tagged_sentence_tokens = nltk.pos_tag(sentence_tokens)\n",
    "adjectives = [word for (word,pos) in tagged_sentence_tokens if pos == 'JJ' or pos=='JJR' or pos=='JJS']\n",
    "nouns = [word for (word,pos) in tagged_sentence_tokens if pos=='NN' or pos=='NNS']\n",
    "verbs = [word for (word,pos) in tagged_sentence_tokens if pos in ['VB', 'VBD','VBG','VBN','VBP','VBZ']]"
   ]
  },
  {
   "cell_type": "code",
   "execution_count": null,
   "metadata": {},
   "outputs": [],
   "source": [
    "#Print most frequent nouns, adjective, and verbs\n",
    "nouns_frequency = nltk.FreqDist(tagged_sentence_tokens)\n",
    "print(\"Most Frequent Nouns:\")\n",
    "print(nouns_frequency.most_common())\n",
    "adj_frequency = nltk.FreqDist(tagged_sentence_tokens)\n",
    "print()\n",
    "print(\"Most Frequent Adjectives:\")\n",
    "print(adj_frequency.most_common())\n",
    "verbs_frequency = nltk.FreqDist(tagged_sentence_tokens)\n",
    "print()\n",
    "print(\"Most Frequent Verbs:\")\n",
    "print(verbs_frequency.most_common())"
   ]
  },
  {
   "cell_type": "code",
   "execution_count": null,
   "metadata": {},
   "outputs": [],
   "source": [
    "#EX2: Compare the most frequent part-of-speech used in two of the texts in our data folder\n",
    "\n",
    "#open and read the novels, save them as variables\n",
    "austen_string = open('../Data/Austen_PrideAndPrejudice.txt', encoding='utf-8').read()\n",
    "alcott_string = open('../Data/Alcott_GarlandForGirls.txt', encoding='utf-8').read()\n",
    "\n",
    "#tokenize, then tag each word with its part of speech\n",
    "austen_tokens = word_tokenize(austen_string)\n",
    "alcott_tokens = word_tokenize(alcott_string)\n",
    "austen_tokens_tagged = nltk.pos_tag(austen_tokens)\n",
    "alcott_tokens_tagged = nltk.pos_tag(alcott_tokens)\n",
    "\n",
    "#create a frequency distribution for the part of speech tags (not the words)\n",
    "austen_tag_freq = nltk.FreqDist(tag for (word, tag) in austen_tokens_tagged)\n",
    "alcott_tag_freq = nltk.FreqDist(tag for (word, tag) in alcott_tokens_tagged)\n",
    "\n",
    "#print most frequent tags\n",
    "print(\"Frequent Part of Speech tags in Austen\")\n",
    "print(austen_tag_freq.most_common(10))\n",
    "\n",
    "print(\"Frequent Part of Speech tags in Alcott\")\n",
    "print(alcott_tag_freq.most_common(10))"
   ]
  }
 ],
 "metadata": {
  "kernelspec": {
   "display_name": "Python 3",
   "language": "python",
   "name": "python3"
  },
  "language_info": {
   "codemirror_mode": {
    "name": "ipython",
    "version": 3
   },
   "file_extension": ".py",
   "mimetype": "text/x-python",
   "name": "python",
   "nbconvert_exporter": "python",
   "pygments_lexer": "ipython3",
   "version": "3.5.2"
  }
 },
 "nbformat": 4,
 "nbformat_minor": 2
}
